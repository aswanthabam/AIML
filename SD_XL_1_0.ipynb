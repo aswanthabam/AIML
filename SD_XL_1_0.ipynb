{
  "nbformat": 4,
  "nbformat_minor": 0,
  "metadata": {
    "colab": {
      "private_outputs": true,
      "provenance": [],
      "include_colab_link": true
    },
    "kernelspec": {
      "name": "python3",
      "display_name": "Python 3"
    },
    "language_info": {
      "name": "python"
    },
    "accelerator": "GPU",
    "gpuClass": "standard"
  },
  "cells": [
    {
      "cell_type": "markdown",
      "metadata": {
        "id": "view-in-github",
        "colab_type": "text"
      },
      "source": [
        "<a href=\"https://colab.research.google.com/github/aswanthabam/AIML/blob/main/SD_XL_1_0.ipynb\" target=\"_parent\"><img src=\"https://colab.research.google.com/assets/colab-badge.svg\" alt=\"Open In Colab\"/></a>"
      ]
    },
    {
      "cell_type": "code",
      "source": [
        "%pip install --quiet --upgrade diffusers transformers accelerate invisible_watermark mediapy safetensors"
      ],
      "metadata": {
        "id": "Xzg_JsfPRbDH"
      },
      "execution_count": null,
      "outputs": []
    },
    {
      "cell_type": "code",
      "source": [
        "from google.colab import drive\n",
        "drive.mount('/content/drive')"
      ],
      "metadata": {
        "id": "K75hv6EJf3pt"
      },
      "execution_count": null,
      "outputs": []
    },
    {
      "cell_type": "code",
      "source": [
        "from diffusers import StableDiffusionXLPipeline\n",
        "import torch\n",
        "import mediapy as media\n",
        "\n",
        "pipe = StableDiffusionXLPipeline.from_pretrained(\n",
        "    \"stabilityai/stable-diffusion-xl-base-1.0\", torch_dtype=torch.float16, variant=\"fp16\", use_safetensors=True\n",
        ")\n",
        "pipe.to(\"cuda\")\n",
        "print(type(pipe))"
      ],
      "metadata": {
        "id": "S-KkVgy7IzD_"
      },
      "execution_count": null,
      "outputs": []
    },
    {
      "cell_type": "code",
      "source": [
        "prompt = \"indian god speaking from a stage on mic, large audience, modern stage,audience sitting in the ground, young,fat, photorealistic,8k\"\n",
        "negative = \"artificial, not perfect face and body, cartoon\"\n",
        "batch = 2\n",
        "steps = 20"
      ],
      "metadata": {
        "id": "_jkB5sFrI4PL"
      },
      "execution_count": null,
      "outputs": []
    },
    {
      "cell_type": "code",
      "source": [
        "images = []\n",
        "for i in range(batch):\n",
        "  print(f\"Generating {i+1}th image...\")\n",
        "  images.append(pipe(prompt=prompt,num_images_per_prompt=1,negative_prompt=negative,num_inference_steps=steps).images[0])"
      ],
      "metadata": {
        "id": "iildjSiORHzm"
      },
      "execution_count": null,
      "outputs": []
    },
    {
      "cell_type": "code",
      "source": [
        "media.show_images(images)"
      ],
      "metadata": {
        "id": "lRBAckVcI7PT"
      },
      "execution_count": null,
      "outputs": []
    },
    {
      "cell_type": "code",
      "source": [
        "from datetime import datetime\n",
        "for i in range(batch):\n",
        "  path = \"/content/drive/MyDrive/Colab/Stable Diffusion/generated/output-{}-{}.jpg\".format(datetime.now().strftime(\"%d-%m-%-Y %H%M%S\"),i+1)\n",
        "  images[i].save(path)"
      ],
      "metadata": {
        "id": "F0i8jJQnJD_N"
      },
      "execution_count": null,
      "outputs": []
    }
  ]
}